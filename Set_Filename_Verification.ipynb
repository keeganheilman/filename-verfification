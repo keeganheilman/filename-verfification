{
  "nbformat": 4,
  "nbformat_minor": 0,
  "metadata": {
    "colab": {
      "name": "Set Filename Verification",
      "provenance": [],
      "collapsed_sections": [],
      "toc_visible": true,
      "authorship_tag": "ABX9TyNZ50nENdFyEKeuk0X50S4y",
      "include_colab_link": true
    },
    "kernelspec": {
      "name": "python3",
      "display_name": "Python 3"
    },
    "language_info": {
      "name": "python"
    }
  },
  "cells": [
    {
      "cell_type": "markdown",
      "metadata": {
        "id": "view-in-github",
        "colab_type": "text"
      },
      "source": [
        "<a href=\"https://colab.research.google.com/github/keeganheilman/filename-verfification/blob/main/Set_Filename_Verification.ipynb\" target=\"_parent\"><img src=\"https://colab.research.google.com/assets/colab-badge.svg\" alt=\"Open In Colab\"/></a>"
      ]
    },
    {
      "cell_type": "markdown",
      "source": [
        "# Set Filename Verification\n",
        "This notebook is a tool designed to assist Proofers compare a masterlist of filenames with those found in the set folder(s)."
      ],
      "metadata": {
        "id": "L3FamBs7wQID"
      }
    },
    {
      "cell_type": "markdown",
      "source": [
        "⚠ Prior To Running\n",
        "1.   Ensure Shared Google Drive Set Folder is added as a shortcut to your Google Drive. [How to create/remove Google Drive shortcut](https://support.google.com/drive/answer/9700156?hl=en&co=GENIE.Platform%3DDesktop)\n",
        "\n",
        "\n"
      ],
      "metadata": {
        "id": "4GgQY90CyNUI"
      }
    },
    {
      "cell_type": "code",
      "execution_count": 1,
      "metadata": {
        "colab": {
          "base_uri": "https://localhost:8080/"
        },
        "id": "63wkWhGuk67L",
        "outputId": "080a1d13-30f5-46fc-9c8f-1efef2b49970"
      },
      "outputs": [
        {
          "output_type": "stream",
          "name": "stdout",
          "text": [
            "Mounted at /content/drive\n"
          ]
        }
      ],
      "source": [
        "# Import required packages\n",
        "from os import walk\n",
        "from google.colab import drive\n",
        "\n",
        "# Mount Google Drive\n",
        "drive.mount('/content/drive')"
      ]
    },
    {
      "cell_type": "code",
      "source": [
        "# Check for folder name containing \"SET\"\n",
        "!ls \"/content/drive/My Drive\" | grep \"SET\""
      ],
      "metadata": {
        "colab": {
          "base_uri": "https://localhost:8080/"
        },
        "id": "aceuxPn11jmX",
        "outputId": "624526aa-64d9-4799-f70e-0583e158d4b7"
      },
      "execution_count": 2,
      "outputs": [
        {
          "output_type": "stream",
          "name": "stdout",
          "text": [
            "SET 17\n"
          ]
        }
      ]
    },
    {
      "cell_type": "code",
      "source": [
        "# Assign SET_FOLDER_NAME variable as the name of the set's folder in Google Drive\n",
        "SET_FOLDER_NAME = \"SET 17\""
      ],
      "metadata": {
        "id": "n9wQ5SM617_3"
      },
      "execution_count": 3,
      "outputs": []
    },
    {
      "cell_type": "code",
      "source": [
        "\n",
        "def checkForDuplicates(filename_list):\n",
        "  \"\"\"\n",
        "  \n",
        "\n",
        "\n",
        "  \"\"\"\n",
        "  duplicate_filenames = set()\n",
        "  for filename in filename_list:\n",
        "    if filename_list.count(filename) > 1:\n",
        "      duplicate_filenames.add(filename)\n",
        "  return duplicate_filenames\n",
        "\n",
        "\n",
        "\n",
        "def getFolderFilenames(SET_FOLDER_NAME):\n",
        "  \"\"\"\n",
        "\n",
        "\n",
        "  \"\"\"\n",
        "  filenames_ALL = []\n",
        "  folders = next(walk(f'/content/drive/My Drive/{SET_FOLDER_NAME}/'), (None, None, []))[1]\n",
        "\n",
        "  for folder in folders:\n",
        "    filenames = next(walk(f'/content/drive/My Drive/{SET_FOLDER_NAME}/{folder}'), (None, None, []))[2]\n",
        "    print(f'number of filenames in {folder} folder: {len(filenames)}')\n",
        "    duplicate_filenames = checkForDuplicates(filenames)\n",
        "    if duplicate_filenames:\n",
        "      print(f'/{SET_FOLDER_NAME}/{folder} contains duplicate filenames: {duplicate_filenames}')\n",
        "    filenames_ALL += filenames\n",
        "    duplicate_filenames = checkForDuplicates(filenames_ALL)\n",
        "    if duplicate_filenames:\n",
        "      print(f'combined ALL folders contains duplicate filenames: {duplicate_filenames}')\n",
        "\n",
        "  print(f'number of filenames in ALL folders: {len(filenames_ALL)}')\n",
        "  return filenames_ALL\n",
        "\n",
        "\n",
        "def getMasterlistFilenames():\n",
        "  \"\"\"\n",
        "\n",
        "\n",
        "  \"\"\"\n",
        "  masterlist_filenames = ['aneffectivedemonstration.png',\n",
        "                          'bb9e.png',\n",
        "                          'beginlandingyourtroopsfightersstraightahead.png',\n",
        "                          'blizzard1.png',\n",
        "                          'burg.png',\n",
        "                          'captainneeda.png',\n",
        "                          'coruscantguard.png',\n",
        "                          'deputydirectorharusison.png',\n",
        "                          'eriadu.png',\n",
        "                          'garsaxon.png',\n",
        "                          'grummgar.png',\n",
        "                          'hothnorthridge.png',\n",
        "                          'landocalrissianvadersbroker.png',\n",
        "                          'lockthedoor.png',\n",
        "                          'malachorsithtemplegateway.png',\n",
        "                          'momentoftriumph.png',\n",
        "                          'officervalinhess.png',\n",
        "                          'passelargente.png',\n",
        "                          'qiratoplieutenant.png',\n",
        "                          'revengeofthesith.png',\n",
        "                          'riseofthesith.png',\n",
        "                          'sidiouslightsaber.png',\n",
        "                          'tragedyofplagueis.png',\n",
        "                          'unlimitedpower.png',\n",
        "                          'wattambor.png',\n",
        "                          'admiralkilian.png',\n",
        "                          'ajanklosstrainingcourse.png',\n",
        "                          'anotherpatheticlifeformsecuritycontrol.png',\n",
        "                          'bewithme.png',\n",
        "                          'bokatan.png',\n",
        "                          'boba.png',\n",
        "                          'cliegglars.png',\n",
        "                          'dagobah.png',\n",
        "                          'endoranakinsfuneralpyre.png',\n",
        "                          'everythingweneed.png',\n",
        "                          'grakchawwaa.png',\n",
        "                          'heroofathousanddevices.png',\n",
        "                          'kananjarrusjediknight.png',\n",
        "                          'kefbiroceanicwreckage.png',\n",
        "                          'marajade.png',\n",
        "                          'myparentswerestrong.png',\n",
        "                          'nowthisispodracing.png',\n",
        "                          'ouneeta.png',\n",
        "                          'profunditydockingbay.png',\n",
        "                          'r3a2.png',\n",
        "                          'returnofajedi.png',\n",
        "                          'tatooineskywalkerhut.png',\n",
        "                          'tatooineslavequarters.png',\n",
        "                          'thedestinyofajedi.png',\n",
        "                          'theforceisstronginmyfamily.png',\n",
        "                          'theriseofskywalker.png',\n",
        "                          'yourthoughtsdwellonyourmother.png']\n",
        "  print(f'number of filenames in masterlist: {len(masterlist_filenames)}')\n",
        "  duplicate_filenames = checkForDuplicates(masterlist_filenames)\n",
        "  if duplicate_filenames: \n",
        "    print(f'masterlist contains duplicate filenames: {duplicate_filenames}') \n",
        "  return masterlist_filenames\n",
        "\n",
        "\n",
        "def compareFilenames(folder_filenames, masterlist_filenames):\n",
        "  folder_filenames_set = set(folder_filenames)\n",
        "  masterlist_filenames_set = set(masterlist_filenames)\n",
        "  missing_filenames_in_masterlist = folder_filenames_set.difference(masterlist_filenames_set)\n",
        "  missing_filenames_in_folders = masterlist_filenames_set.difference(folder_filenames_set)\n",
        "\n",
        "  if len(missing_filenames_in_folders):\n",
        "    print(f'folders are missing {len(missing_filenames_in_folders)} filenames: {missing_filenames_in_folders}')\n",
        "  if len(missing_filenames_in_masterlist):\n",
        "    print(f'masterlist is missing {len(missing_filenames_in_masterlist)} filenames: {missing_filenames_in_masterlist}')\n",
        "\n",
        "\n"
      ],
      "metadata": {
        "id": "FG-2ScrIlXpO"
      },
      "execution_count": 4,
      "outputs": []
    },
    {
      "cell_type": "code",
      "source": [
        "# Obtain filenames from folders\n",
        "folder_filenames = getFolderFilenames(SET_FOLDER_NAME)\n",
        "\n",
        "# Obtain filenames from masterlist\n",
        "masterlist_filenames = getMasterlistFilenames()\n",
        "\n",
        "# Compare filenames\n",
        "compareFilenames(folder_filenames,masterlist_filenames)\n",
        "\n",
        "\n",
        "\n"
      ],
      "metadata": {
        "colab": {
          "base_uri": "https://localhost:8080/"
        },
        "id": "pJqzS6ZvoO7w",
        "outputId": "555b0686-b858-4d06-8cc5-7903249cb3b7"
      },
      "execution_count": 5,
      "outputs": [
        {
          "output_type": "stream",
          "name": "stdout",
          "text": [
            "number of filenames in LIGHT folder: 28\n",
            "number of filenames in ERRATA folder: 5\n",
            "number of filenames in DARK folder: 25\n",
            "number of filenames in ALL folders: 58\n",
            "number of filenames in masterlist: 52\n",
            "folders are missing 1 filenames: {'lockthedoor.png'}\n",
            "masterlist is missing 7 filenames: {'bowtothefirstorder.png', 'closetheblastdoors.png', 'ouneetav.png', 'anakinskywalker.png', 'ouronlyhope.png', 'bluesquadron1.png', 'vadersanger.png'}\n"
          ]
        }
      ]
    },
    {
      "cell_type": "code",
      "source": [
        ""
      ],
      "metadata": {
        "id": "IAoytBsi-CLU"
      },
      "execution_count": 5,
      "outputs": []
    }
  ]
}